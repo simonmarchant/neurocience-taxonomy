{
 "cells": [
  {
   "cell_type": "code",
   "execution_count": 3,
   "metadata": {},
   "outputs": [],
   "source": [
    "import pandas as pd\n",
    "import plotly.express as px"
   ]
  },
  {
   "cell_type": "code",
   "execution_count": 4,
   "metadata": {},
   "outputs": [
    {
     "data": {
      "text/html": [
       "<div>\n",
       "<style scoped>\n",
       "    .dataframe tbody tr th:only-of-type {\n",
       "        vertical-align: middle;\n",
       "    }\n",
       "\n",
       "    .dataframe tbody tr th {\n",
       "        vertical-align: top;\n",
       "    }\n",
       "\n",
       "    .dataframe thead th {\n",
       "        text-align: right;\n",
       "    }\n",
       "</style>\n",
       "<table border=\"1\" class=\"dataframe\">\n",
       "  <thead>\n",
       "    <tr style=\"text-align: right;\">\n",
       "      <th></th>\n",
       "      <th>Name</th>\n",
       "      <th>MedicalMaths</th>\n",
       "      <th>BasicTranslational</th>\n",
       "      <th>EmpiricalTheoretical</th>\n",
       "      <th>Field</th>\n",
       "    </tr>\n",
       "  </thead>\n",
       "  <tbody>\n",
       "    <tr>\n",
       "      <th>0</th>\n",
       "      <td>Ted</td>\n",
       "      <td>5</td>\n",
       "      <td>1</td>\n",
       "      <td>-1</td>\n",
       "      <td>Clinical</td>\n",
       "    </tr>\n",
       "    <tr>\n",
       "      <th>1</th>\n",
       "      <td>Annie</td>\n",
       "      <td>-4</td>\n",
       "      <td>-3</td>\n",
       "      <td>3</td>\n",
       "      <td>Analysis</td>\n",
       "    </tr>\n",
       "    <tr>\n",
       "      <th>2</th>\n",
       "      <td>Broski</td>\n",
       "      <td>-1</td>\n",
       "      <td>4</td>\n",
       "      <td>-3</td>\n",
       "      <td>Cognitive</td>\n",
       "    </tr>\n",
       "    <tr>\n",
       "      <th>3</th>\n",
       "      <td>Peach</td>\n",
       "      <td>0</td>\n",
       "      <td>5</td>\n",
       "      <td>3</td>\n",
       "      <td>Cellular</td>\n",
       "    </tr>\n",
       "    <tr>\n",
       "      <th>4</th>\n",
       "      <td>Jimbob</td>\n",
       "      <td>3</td>\n",
       "      <td>2</td>\n",
       "      <td>3</td>\n",
       "      <td>Clinical</td>\n",
       "    </tr>\n",
       "    <tr>\n",
       "      <th>5</th>\n",
       "      <td>Julia</td>\n",
       "      <td>-5</td>\n",
       "      <td>-5</td>\n",
       "      <td>-5</td>\n",
       "      <td>Analysis</td>\n",
       "    </tr>\n",
       "    <tr>\n",
       "      <th>6</th>\n",
       "      <td>Buzz</td>\n",
       "      <td>4</td>\n",
       "      <td>-3</td>\n",
       "      <td>4</td>\n",
       "      <td>Cellular</td>\n",
       "    </tr>\n",
       "    <tr>\n",
       "      <th>7</th>\n",
       "      <td>Julio</td>\n",
       "      <td>0</td>\n",
       "      <td>1</td>\n",
       "      <td>-2</td>\n",
       "      <td>Cognitive</td>\n",
       "    </tr>\n",
       "    <tr>\n",
       "      <th>8</th>\n",
       "      <td>Lana</td>\n",
       "      <td>-1</td>\n",
       "      <td>0</td>\n",
       "      <td>1</td>\n",
       "      <td>Analysis</td>\n",
       "    </tr>\n",
       "  </tbody>\n",
       "</table>\n",
       "</div>"
      ],
      "text/plain": [
       "     Name  MedicalMaths  BasicTranslational  EmpiricalTheoretical      Field\n",
       "0     Ted             5                   1                    -1   Clinical\n",
       "1   Annie            -4                  -3                     3   Analysis\n",
       "2  Broski            -1                   4                    -3  Cognitive\n",
       "3   Peach             0                   5                     3   Cellular\n",
       "4  Jimbob             3                   2                     3   Clinical\n",
       "5   Julia            -5                  -5                    -5   Analysis\n",
       "6    Buzz             4                  -3                     4   Cellular\n",
       "7   Julio             0                   1                    -2  Cognitive\n",
       "8    Lana            -1                   0                     1   Analysis"
      ]
     },
     "execution_count": 4,
     "metadata": {},
     "output_type": "execute_result"
    }
   ],
   "source": [
    "df = pd.read_excel('Answers.xlsx')\n",
    "df"
   ]
  },
  {
   "cell_type": "code",
   "execution_count": 5,
   "metadata": {},
   "outputs": [
    {
     "data": {
      "application/vnd.plotly.v1+json": {
       "config": {
        "plotlyServerURL": "https://plot.ly"
       },
       "data": [
        {
         "hovertemplate": "<b>%{hovertext}</b><br><br>Field=Clinical<br>MedicalMaths=%{x}<br>BasicTranslational=%{y}<br>EmpiricalTheoretical=%{z}<extra></extra>",
         "hovertext": [
          "Ted",
          "Jimbob"
         ],
         "legendgroup": "Clinical",
         "marker": {
          "color": "#636efa",
          "symbol": "circle"
         },
         "mode": "markers",
         "name": "Clinical",
         "scene": "scene",
         "showlegend": true,
         "type": "scatter3d",
         "x": [
          5,
          3
         ],
         "y": [
          1,
          2
         ],
         "z": [
          -1,
          3
         ]
        },
        {
         "hovertemplate": "<b>%{hovertext}</b><br><br>Field=Analysis<br>MedicalMaths=%{x}<br>BasicTranslational=%{y}<br>EmpiricalTheoretical=%{z}<extra></extra>",
         "hovertext": [
          "Annie",
          "Julia",
          "Lana"
         ],
         "legendgroup": "Analysis",
         "marker": {
          "color": "#EF553B",
          "symbol": "circle"
         },
         "mode": "markers",
         "name": "Analysis",
         "scene": "scene",
         "showlegend": true,
         "type": "scatter3d",
         "x": [
          -4,
          -5,
          -1
         ],
         "y": [
          -3,
          -5,
          0
         ],
         "z": [
          3,
          -5,
          1
         ]
        },
        {
         "hovertemplate": "<b>%{hovertext}</b><br><br>Field=Cognitive<br>MedicalMaths=%{x}<br>BasicTranslational=%{y}<br>EmpiricalTheoretical=%{z}<extra></extra>",
         "hovertext": [
          "Broski",
          "Julio"
         ],
         "legendgroup": "Cognitive",
         "marker": {
          "color": "#00cc96",
          "symbol": "circle"
         },
         "mode": "markers",
         "name": "Cognitive",
         "scene": "scene",
         "showlegend": true,
         "type": "scatter3d",
         "x": [
          -1,
          0
         ],
         "y": [
          4,
          1
         ],
         "z": [
          -3,
          -2
         ]
        },
        {
         "hovertemplate": "<b>%{hovertext}</b><br><br>Field=Cellular<br>MedicalMaths=%{x}<br>BasicTranslational=%{y}<br>EmpiricalTheoretical=%{z}<extra></extra>",
         "hovertext": [
          "Peach",
          "Buzz"
         ],
         "legendgroup": "Cellular",
         "marker": {
          "color": "#ab63fa",
          "symbol": "circle"
         },
         "mode": "markers",
         "name": "Cellular",
         "scene": "scene",
         "showlegend": true,
         "type": "scatter3d",
         "x": [
          0,
          4
         ],
         "y": [
          5,
          -3
         ],
         "z": [
          3,
          4
         ]
        }
       ],
       "layout": {
        "height": 600,
        "legend": {
         "title": {
          "text": "Field"
         },
         "tracegroupgap": 0
        },
        "margin": {
         "t": 60
        },
        "scene": {
         "domain": {
          "x": [
           0,
           1
          ],
          "y": [
           0,
           1
          ]
         },
         "xaxis": {
          "range": [
           -5,
           5
          ],
          "title": {
           "text": "Medicalness"
          }
         },
         "yaxis": {
          "range": [
           -5,
           5
          ],
          "title": {
           "text": "Basicness"
          }
         },
         "zaxis": {
          "range": [
           -5,
           5
          ],
          "title": {
           "text": "Empiricalness"
          }
         }
        },
        "template": {
         "data": {
          "scatter": [
           {
            "type": "scatter"
           }
          ]
         }
        },
        "title": {
         "text": "Neuroscience!"
        },
        "width": 800
       }
      }
     },
     "metadata": {},
     "output_type": "display_data"
    }
   ],
   "source": [
    "fig = px.scatter_3d(df, x='MedicalMaths', y='BasicTranslational', z='EmpiricalTheoretical', color='Field', hover_name='Name')\n",
    "fig.update_layout(width=800, height=600, title = 'Neuroscience!', template='none',\n",
    "                  scene = dict(xaxis=dict(title='Medicalness', range=[-5,5]),\n",
    "                               yaxis=dict(title='Basicness', range=[-5,5]),\n",
    "                               zaxis=dict(title='Empiricalness', range=[-5,5]),\n",
    "                               #bgcolor = 'rgb(20, 24, 54)' #, titlefont_color='white'\n",
    "                           ))\n",
    "fig.show()"
   ]
  },
  {
   "cell_type": "code",
   "execution_count": 6,
   "metadata": {},
   "outputs": [],
   "source": [
    "fig.write_html('./site/plot3d.html')"
   ]
  }
 ],
 "metadata": {
  "kernelspec": {
   "display_name": "taxonomy",
   "language": "python",
   "name": "python3"
  },
  "language_info": {
   "codemirror_mode": {
    "name": "ipython",
    "version": 3
   },
   "file_extension": ".py",
   "mimetype": "text/x-python",
   "name": "python",
   "nbconvert_exporter": "python",
   "pygments_lexer": "ipython3",
   "version": "3.10.0"
  },
  "orig_nbformat": 4
 },
 "nbformat": 4,
 "nbformat_minor": 2
}
